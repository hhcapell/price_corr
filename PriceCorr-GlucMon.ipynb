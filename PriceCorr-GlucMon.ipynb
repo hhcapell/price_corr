{
 "cells": [
  {
   "cell_type": "code",
   "execution_count": 1,
   "metadata": {},
   "outputs": [],
   "source": [
    "import pandas as pd\n",
    "import numpy as np\n",
    "import matplotlib.pylab as plt\n",
    "from scipy import stats\n",
    "import seaborn as sns\n",
    "%matplotlib inline\n",
    "\n",
    "import warnings\n",
    "warnings.filterwarnings('ignore')"
   ]
  },
  {
   "cell_type": "code",
   "execution_count": 2,
   "metadata": {},
   "outputs": [],
   "source": [
    "from sklearn.linear_model import LinearRegression\n",
    "from sklearn.linear_model import SGDRegressor\n",
    "from sklearn.neighbors import KNeighborsRegressor\n",
    "from sklearn.svm import SVR\n",
    "from sklearn.linear_model import Ridge\n",
    "from sklearn.linear_model import Lasso\n",
    "from sklearn import tree\n",
    "from sklearn.ensemble import BaggingRegressor\n",
    "from sklearn.ensemble import ExtraTreesRegressor\n",
    "from sklearn.ensemble import RandomForestRegressor\n",
    "from sklearn.ensemble import GradientBoostingRegressor\n",
    "from sklearn.ensemble import AdaBoostRegressor\n",
    "\n",
    "from sklearn.ensemble import RandomForestClassifier\n",
    "from sklearn import metrics\n",
    "\n",
    "from sklearn.model_selection import train_test_split\n",
    "from sklearn.model_selection import cross_val_score\n",
    "from sklearn.metrics import r2_score, accuracy_score\n",
    "from sklearn.model_selection import GridSearchCV\n",
    "\n",
    "import pickle"
   ]
  },
  {
   "cell_type": "code",
   "execution_count": 3,
   "metadata": {},
   "outputs": [],
   "source": [
    "df = pd.read_csv('GlucMon_PriceIncr.csv')"
   ]
  },
  {
   "cell_type": "code",
   "execution_count": 4,
   "metadata": {},
   "outputs": [
    {
     "data": {
      "text/html": [
       "<div>\n",
       "<style scoped>\n",
       "    .dataframe tbody tr th:only-of-type {\n",
       "        vertical-align: middle;\n",
       "    }\n",
       "\n",
       "    .dataframe tbody tr th {\n",
       "        vertical-align: top;\n",
       "    }\n",
       "\n",
       "    .dataframe thead th {\n",
       "        text-align: right;\n",
       "    }\n",
       "</style>\n",
       "<table border=\"1\" class=\"dataframe\">\n",
       "  <thead>\n",
       "    <tr style=\"text-align: right;\">\n",
       "      <th></th>\n",
       "      <th>YR-MON</th>\n",
       "      <th>Silver</th>\n",
       "      <th>Silver-1</th>\n",
       "      <th>Silver-2</th>\n",
       "      <th>Silver-3</th>\n",
       "      <th>Silver-4</th>\n",
       "      <th>Silver-5</th>\n",
       "      <th>Silver-6</th>\n",
       "      <th>Copper</th>\n",
       "      <th>Copper-1</th>\n",
       "      <th>...</th>\n",
       "      <th>Copper-5</th>\n",
       "      <th>Copper-6</th>\n",
       "      <th>Steel</th>\n",
       "      <th>Steel-1</th>\n",
       "      <th>Steel-2</th>\n",
       "      <th>Steel-3</th>\n",
       "      <th>Steel-4</th>\n",
       "      <th>Steel-5</th>\n",
       "      <th>Steel-6</th>\n",
       "      <th>PriceIncrDate</th>\n",
       "    </tr>\n",
       "  </thead>\n",
       "  <tbody>\n",
       "    <tr>\n",
       "      <th>0</th>\n",
       "      <td>2009-Sep</td>\n",
       "      <td>0.142</td>\n",
       "      <td>0.074</td>\n",
       "      <td>-0.088</td>\n",
       "      <td>0.045</td>\n",
       "      <td>0.121</td>\n",
       "      <td>-0.046</td>\n",
       "      <td>-0.022</td>\n",
       "      <td>0.005</td>\n",
       "      <td>0.176</td>\n",
       "      <td>...</td>\n",
       "      <td>0.182</td>\n",
       "      <td>0.141</td>\n",
       "      <td>0.036</td>\n",
       "      <td>0.049</td>\n",
       "      <td>0.041</td>\n",
       "      <td>0.011</td>\n",
       "      <td>0.002</td>\n",
       "      <td>-0.061</td>\n",
       "      <td>-0.030</td>\n",
       "      <td>0</td>\n",
       "    </tr>\n",
       "    <tr>\n",
       "      <th>1</th>\n",
       "      <td>2009-Oct</td>\n",
       "      <td>0.052</td>\n",
       "      <td>0.142</td>\n",
       "      <td>0.074</td>\n",
       "      <td>-0.088</td>\n",
       "      <td>0.045</td>\n",
       "      <td>0.121</td>\n",
       "      <td>-0.046</td>\n",
       "      <td>0.018</td>\n",
       "      <td>0.005</td>\n",
       "      <td>...</td>\n",
       "      <td>0.032</td>\n",
       "      <td>0.182</td>\n",
       "      <td>0.012</td>\n",
       "      <td>0.036</td>\n",
       "      <td>0.049</td>\n",
       "      <td>0.041</td>\n",
       "      <td>0.011</td>\n",
       "      <td>0.002</td>\n",
       "      <td>-0.061</td>\n",
       "      <td>0</td>\n",
       "    </tr>\n",
       "    <tr>\n",
       "      <th>2</th>\n",
       "      <td>2009-Nov</td>\n",
       "      <td>0.034</td>\n",
       "      <td>0.052</td>\n",
       "      <td>0.142</td>\n",
       "      <td>0.074</td>\n",
       "      <td>-0.088</td>\n",
       "      <td>0.045</td>\n",
       "      <td>0.121</td>\n",
       "      <td>0.055</td>\n",
       "      <td>0.018</td>\n",
       "      <td>...</td>\n",
       "      <td>0.088</td>\n",
       "      <td>0.032</td>\n",
       "      <td>-0.024</td>\n",
       "      <td>0.012</td>\n",
       "      <td>0.036</td>\n",
       "      <td>0.049</td>\n",
       "      <td>0.041</td>\n",
       "      <td>0.011</td>\n",
       "      <td>0.002</td>\n",
       "      <td>0</td>\n",
       "    </tr>\n",
       "    <tr>\n",
       "      <th>3</th>\n",
       "      <td>2009-Dec</td>\n",
       "      <td>-0.008</td>\n",
       "      <td>0.034</td>\n",
       "      <td>0.052</td>\n",
       "      <td>0.142</td>\n",
       "      <td>0.074</td>\n",
       "      <td>-0.088</td>\n",
       "      <td>0.045</td>\n",
       "      <td>0.050</td>\n",
       "      <td>0.055</td>\n",
       "      <td>...</td>\n",
       "      <td>0.047</td>\n",
       "      <td>0.088</td>\n",
       "      <td>0.023</td>\n",
       "      <td>-0.024</td>\n",
       "      <td>0.012</td>\n",
       "      <td>0.036</td>\n",
       "      <td>0.049</td>\n",
       "      <td>0.041</td>\n",
       "      <td>0.011</td>\n",
       "      <td>0</td>\n",
       "    </tr>\n",
       "    <tr>\n",
       "      <th>4</th>\n",
       "      <td>2010-Jan</td>\n",
       "      <td>0.006</td>\n",
       "      <td>-0.008</td>\n",
       "      <td>0.034</td>\n",
       "      <td>0.052</td>\n",
       "      <td>0.142</td>\n",
       "      <td>0.074</td>\n",
       "      <td>-0.088</td>\n",
       "      <td>0.048</td>\n",
       "      <td>0.050</td>\n",
       "      <td>...</td>\n",
       "      <td>0.176</td>\n",
       "      <td>0.047</td>\n",
       "      <td>0.051</td>\n",
       "      <td>0.023</td>\n",
       "      <td>-0.024</td>\n",
       "      <td>0.012</td>\n",
       "      <td>0.036</td>\n",
       "      <td>0.049</td>\n",
       "      <td>0.041</td>\n",
       "      <td>0</td>\n",
       "    </tr>\n",
       "  </tbody>\n",
       "</table>\n",
       "<p>5 rows × 23 columns</p>\n",
       "</div>"
      ],
      "text/plain": [
       "     YR-MON  Silver  Silver-1  Silver-2  Silver-3  Silver-4  Silver-5  \\\n",
       "0  2009-Sep   0.142     0.074    -0.088     0.045     0.121    -0.046   \n",
       "1  2009-Oct   0.052     0.142     0.074    -0.088     0.045     0.121   \n",
       "2  2009-Nov   0.034     0.052     0.142     0.074    -0.088     0.045   \n",
       "3  2009-Dec  -0.008     0.034     0.052     0.142     0.074    -0.088   \n",
       "4  2010-Jan   0.006    -0.008     0.034     0.052     0.142     0.074   \n",
       "\n",
       "   Silver-6  Copper  Copper-1  ...  Copper-5  Copper-6  Steel  Steel-1  \\\n",
       "0    -0.022   0.005     0.176  ...     0.182     0.141  0.036    0.049   \n",
       "1    -0.046   0.018     0.005  ...     0.032     0.182  0.012    0.036   \n",
       "2     0.121   0.055     0.018  ...     0.088     0.032 -0.024    0.012   \n",
       "3     0.045   0.050     0.055  ...     0.047     0.088  0.023   -0.024   \n",
       "4    -0.088   0.048     0.050  ...     0.176     0.047  0.051    0.023   \n",
       "\n",
       "   Steel-2  Steel-3  Steel-4  Steel-5  Steel-6  PriceIncrDate  \n",
       "0    0.041    0.011    0.002   -0.061   -0.030              0  \n",
       "1    0.049    0.041    0.011    0.002   -0.061              0  \n",
       "2    0.036    0.049    0.041    0.011    0.002              0  \n",
       "3    0.012    0.036    0.049    0.041    0.011              0  \n",
       "4   -0.024    0.012    0.036    0.049    0.041              0  \n",
       "\n",
       "[5 rows x 23 columns]"
      ]
     },
     "execution_count": 4,
     "metadata": {},
     "output_type": "execute_result"
    }
   ],
   "source": [
    "df.head(5)"
   ]
  },
  {
   "cell_type": "code",
   "execution_count": 5,
   "metadata": {},
   "outputs": [],
   "source": [
    "y = df[['PriceIncrDate']]"
   ]
  },
  {
   "cell_type": "code",
   "execution_count": 6,
   "metadata": {},
   "outputs": [],
   "source": [
    "X = df.drop(['YR-MON', 'PriceIncrDate'], axis=1)"
   ]
  },
  {
   "cell_type": "code",
   "execution_count": 7,
   "metadata": {},
   "outputs": [],
   "source": [
    "##X.set_index('YR-MON')"
   ]
  },
  {
   "cell_type": "code",
   "execution_count": 8,
   "metadata": {},
   "outputs": [],
   "source": [
    "##y.set_index('YR-MON')"
   ]
  },
  {
   "cell_type": "code",
   "execution_count": 9,
   "metadata": {},
   "outputs": [
    {
     "data": {
      "text/plain": [
       "(139, 21)"
      ]
     },
     "execution_count": 9,
     "metadata": {},
     "output_type": "execute_result"
    }
   ],
   "source": [
    "X.shape"
   ]
  },
  {
   "cell_type": "code",
   "execution_count": 10,
   "metadata": {},
   "outputs": [
    {
     "data": {
      "text/plain": [
       "(139, 1)"
      ]
     },
     "execution_count": 10,
     "metadata": {},
     "output_type": "execute_result"
    }
   ],
   "source": [
    "y.shape"
   ]
  },
  {
   "cell_type": "code",
   "execution_count": 25,
   "metadata": {},
   "outputs": [],
   "source": [
    "# Split dataset into training set and test set\n",
    "X_train, X_test, y_train, y_test = train_test_split(X, y, test_size=0.1) # 10% testing, 90% training"
   ]
  },
  {
   "cell_type": "code",
   "execution_count": 26,
   "metadata": {},
   "outputs": [],
   "source": [
    "#Create a Gaussian Classifier\n",
    "clf=RandomForestClassifier(n_estimators=100)\n",
    "\n",
    "#Train the model using the training sets y_pred=clf.predict(X_test)\n",
    "clf.fit(X_train,y_train)\n",
    "\n",
    "y_pred=clf.predict(X_test)\n",
    "y_pred_train = clf.predict(X_train)\n",
    "y_pred2 = clf.predict(X)"
   ]
  },
  {
   "cell_type": "code",
   "execution_count": 27,
   "metadata": {},
   "outputs": [
    {
     "name": "stdout",
     "output_type": "stream",
     "text": [
      "Accuracy - small sample test: 0.7142857142857143\n",
      "Precision - small sample test: 0.0\n",
      "Recall - small sample test: 0.0\n"
     ]
    }
   ],
   "source": [
    "accuracy = metrics.accuracy_score(y_test, y_pred)\n",
    "precision = metrics.precision_score(y_test, y_pred)\n",
    "recall = metrics.recall_score(y_test, y_pred)\n",
    "\n",
    "# Accuracy, how often is model correct? \n",
    "print(\"Accuracy - small sample test:\",accuracy)\n",
    "\n",
    "# Precision, how often does model get predict positives correctlu?\n",
    "print (\"Precision - small sample test:\", precision)\n",
    "\n",
    "# Recall, how often does model find all the positive labels?\n",
    "print (\"Recall - small sample test:\", recall)"
   ]
  },
  {
   "cell_type": "code",
   "execution_count": 28,
   "metadata": {},
   "outputs": [
    {
     "name": "stdout",
     "output_type": "stream",
     "text": [
      "Accuracy - all data: 0.9712230215827338\n",
      "Precision - all data: 0.8461538461538461\n",
      "Recall - all data: 0.8461538461538461\n"
     ]
    }
   ],
   "source": [
    "accuracy2 = metrics.accuracy_score(y, y_pred2)\n",
    "print(\"Accuracy - all data:\",accuracy2)\n",
    "\n",
    "recall2 = metrics.recall_score(y, y_pred2)\n",
    "print (\"Precision - all data:\", recall2)\n",
    "\n",
    "precision2 = metrics.precision_score(y, y_pred2)\n",
    "print (\"Recall - all data:\", recall2)"
   ]
  },
  {
   "cell_type": "code",
   "execution_count": 29,
   "metadata": {},
   "outputs": [
    {
     "data": {
      "text/plain": [
       "Copper-4    0.072322\n",
       "Copper-3    0.061308\n",
       "Copper-5    0.060928\n",
       "Silver-2    0.056783\n",
       "Steel       0.056436\n",
       "Copper-2    0.055574\n",
       "Silver-1    0.054181\n",
       "Silver-4    0.050531\n",
       "Silver      0.050275\n",
       "Silver-3    0.048421\n",
       "Steel-4     0.048410\n",
       "Copper      0.043926\n",
       "Steel-6     0.042895\n",
       "Steel-1     0.041838\n",
       "Steel-5     0.041506\n",
       "Copper-6    0.038644\n",
       "Silver-6    0.038542\n",
       "Silver-5    0.038365\n",
       "Steel-3     0.038043\n",
       "Copper-1    0.030813\n",
       "Steel-2     0.030260\n",
       "dtype: float64"
      ]
     },
     "execution_count": 29,
     "metadata": {},
     "output_type": "execute_result"
    }
   ],
   "source": [
    "feature_imp = pd.Series(clf.feature_importances_,index=X.columns).sort_values(ascending=False)\n",
    "feature_imp"
   ]
  },
  {
   "cell_type": "code",
   "execution_count": 30,
   "metadata": {},
   "outputs": [
    {
     "data": {
      "image/png": "[encoded data removed]",
      "text/plain": [
       "<Figure size 216x720 with 1 Axes>"
      ]
     },
     "metadata": {
      "needs_background": "light"
     },
     "output_type": "display_data"
    }
   ],
   "source": [
    "features = X.columns\n",
    "importances = clf.feature_importances_\n",
    "indices = np.argsort(importances)\n",
    "\n",
    "# customized number \n",
    "num_features = 10 \n",
    "\n",
    "plt.figure(figsize=(3,10))\n",
    "plt.title('Feature Importances')\n",
    "plt.barh(range(num_features), importances[indices[-num_features:]], color='b', align='center')\n",
    "plt.yticks(range(num_features), [features[i] for i in indices[-num_features:]])\n",
    "plt.xlabel('Relative Importance')\n",
    "plt.show()"
   ]
  },
  {
   "cell_type": "code",
   "execution_count": 31,
   "metadata": {},
   "outputs": [],
   "source": [
    "## create a predictions dataframe copying indices from X_test then merge with the original data.\n",
    "\n",
    "y_pred_df = pd.DataFrame(data = y_pred, columns = ['PriceIncrDate'], index = X_test.index.copy())\n",
    "df_out = pd.merge(df, y_pred_df, how = 'left', left_index = True, right_index = True)"
   ]
  },
  {
   "cell_type": "code",
   "execution_count": 32,
   "metadata": {},
   "outputs": [],
   "source": [
    "## create a predictions dataframe copying indices from X_test then merge with the original data (entire dataset)\n",
    "\n",
    "y_pred2_df = pd.DataFrame(data = y_pred2, columns = ['PriceIncrDate'], index = X.index.copy())\n",
    "df_out2 = pd.merge(df, y_pred2_df, how = 'left', left_index = True, right_index = True)"
   ]
  },
  {
   "cell_type": "code",
   "execution_count": 33,
   "metadata": {},
   "outputs": [],
   "source": [
    "df_out2 .rename(columns={'PriceIncrDate_x':'PriceIncrDate', 'PriceIncrDate_y':'PriceIncrDate_pred'}, inplace=True)"
   ]
  },
  {
   "cell_type": "code",
   "execution_count": 34,
   "metadata": {},
   "outputs": [
    {
     "data": {
      "text/html": [
       "<div>\n",
       "<style scoped>\n",
       "    .dataframe tbody tr th:only-of-type {\n",
       "        vertical-align: middle;\n",
       "    }\n",
       "\n",
       "    .dataframe tbody tr th {\n",
       "        vertical-align: top;\n",
       "    }\n",
       "\n",
       "    .dataframe thead th {\n",
       "        text-align: right;\n",
       "    }\n",
       "</style>\n",
       "<table border=\"1\" class=\"dataframe\">\n",
       "  <thead>\n",
       "    <tr style=\"text-align: right;\">\n",
       "      <th></th>\n",
       "      <th>YR-MON</th>\n",
       "      <th>PriceIncrDate</th>\n",
       "      <th>PriceIncrDate_pred</th>\n",
       "    </tr>\n",
       "  </thead>\n",
       "  <tbody>\n",
       "    <tr>\n",
       "      <th>34</th>\n",
       "      <td>2012-Jul</td>\n",
       "      <td>1</td>\n",
       "      <td>1</td>\n",
       "    </tr>\n",
       "    <tr>\n",
       "      <th>35</th>\n",
       "      <td>2012-Aug</td>\n",
       "      <td>1</td>\n",
       "      <td>1</td>\n",
       "    </tr>\n",
       "    <tr>\n",
       "      <th>42</th>\n",
       "      <td>2013-Mar</td>\n",
       "      <td>1</td>\n",
       "      <td>1</td>\n",
       "    </tr>\n",
       "    <tr>\n",
       "      <th>43</th>\n",
       "      <td>2013-Apr</td>\n",
       "      <td>1</td>\n",
       "      <td>0</td>\n",
       "    </tr>\n",
       "    <tr>\n",
       "      <th>44</th>\n",
       "      <td>2013-May</td>\n",
       "      <td>1</td>\n",
       "      <td>1</td>\n",
       "    </tr>\n",
       "    <tr>\n",
       "      <th>45</th>\n",
       "      <td>2013-Jun</td>\n",
       "      <td>1</td>\n",
       "      <td>1</td>\n",
       "    </tr>\n",
       "    <tr>\n",
       "      <th>46</th>\n",
       "      <td>2013-Jul</td>\n",
       "      <td>1</td>\n",
       "      <td>1</td>\n",
       "    </tr>\n",
       "    <tr>\n",
       "      <th>52</th>\n",
       "      <td>2014-Jan</td>\n",
       "      <td>1</td>\n",
       "      <td>1</td>\n",
       "    </tr>\n",
       "    <tr>\n",
       "      <th>53</th>\n",
       "      <td>2014-Feb</td>\n",
       "      <td>1</td>\n",
       "      <td>1</td>\n",
       "    </tr>\n",
       "    <tr>\n",
       "      <th>56</th>\n",
       "      <td>2014-May</td>\n",
       "      <td>1</td>\n",
       "      <td>1</td>\n",
       "    </tr>\n",
       "    <tr>\n",
       "      <th>57</th>\n",
       "      <td>2014-Jun</td>\n",
       "      <td>1</td>\n",
       "      <td>1</td>\n",
       "    </tr>\n",
       "    <tr>\n",
       "      <th>59</th>\n",
       "      <td>2014-Aug</td>\n",
       "      <td>1</td>\n",
       "      <td>1</td>\n",
       "    </tr>\n",
       "    <tr>\n",
       "      <th>60</th>\n",
       "      <td>2014-Sep</td>\n",
       "      <td>1</td>\n",
       "      <td>0</td>\n",
       "    </tr>\n",
       "    <tr>\n",
       "      <th>61</th>\n",
       "      <td>2014-Oct</td>\n",
       "      <td>1</td>\n",
       "      <td>1</td>\n",
       "    </tr>\n",
       "    <tr>\n",
       "      <th>69</th>\n",
       "      <td>2015-Jun</td>\n",
       "      <td>1</td>\n",
       "      <td>1</td>\n",
       "    </tr>\n",
       "    <tr>\n",
       "      <th>74</th>\n",
       "      <td>2015-Nov</td>\n",
       "      <td>1</td>\n",
       "      <td>1</td>\n",
       "    </tr>\n",
       "    <tr>\n",
       "      <th>75</th>\n",
       "      <td>2015-Dec</td>\n",
       "      <td>1</td>\n",
       "      <td>0</td>\n",
       "    </tr>\n",
       "    <tr>\n",
       "      <th>78</th>\n",
       "      <td>2016-Mar</td>\n",
       "      <td>1</td>\n",
       "      <td>1</td>\n",
       "    </tr>\n",
       "    <tr>\n",
       "      <th>79</th>\n",
       "      <td>2016-Apr</td>\n",
       "      <td>1</td>\n",
       "      <td>1</td>\n",
       "    </tr>\n",
       "    <tr>\n",
       "      <th>96</th>\n",
       "      <td>2017-Sep</td>\n",
       "      <td>1</td>\n",
       "      <td>1</td>\n",
       "    </tr>\n",
       "    <tr>\n",
       "      <th>109</th>\n",
       "      <td>2018-Oct</td>\n",
       "      <td>1</td>\n",
       "      <td>1</td>\n",
       "    </tr>\n",
       "    <tr>\n",
       "      <th>117</th>\n",
       "      <td>2019-Jun</td>\n",
       "      <td>1</td>\n",
       "      <td>1</td>\n",
       "    </tr>\n",
       "    <tr>\n",
       "      <th>119</th>\n",
       "      <td>2019-Aug</td>\n",
       "      <td>1</td>\n",
       "      <td>1</td>\n",
       "    </tr>\n",
       "    <tr>\n",
       "      <th>120</th>\n",
       "      <td>2019-Sep</td>\n",
       "      <td>1</td>\n",
       "      <td>1</td>\n",
       "    </tr>\n",
       "    <tr>\n",
       "      <th>121</th>\n",
       "      <td>2019-Oct</td>\n",
       "      <td>1</td>\n",
       "      <td>1</td>\n",
       "    </tr>\n",
       "    <tr>\n",
       "      <th>129</th>\n",
       "      <td>2020-Jun</td>\n",
       "      <td>1</td>\n",
       "      <td>0</td>\n",
       "    </tr>\n",
       "  </tbody>\n",
       "</table>\n",
       "</div>"
      ],
      "text/plain": [
       "       YR-MON  PriceIncrDate  PriceIncrDate_pred\n",
       "34   2012-Jul              1                   1\n",
       "35   2012-Aug              1                   1\n",
       "42   2013-Mar              1                   1\n",
       "43   2013-Apr              1                   0\n",
       "44   2013-May              1                   1\n",
       "45   2013-Jun              1                   1\n",
       "46   2013-Jul              1                   1\n",
       "52   2014-Jan              1                   1\n",
       "53   2014-Feb              1                   1\n",
       "56   2014-May              1                   1\n",
       "57   2014-Jun              1                   1\n",
       "59   2014-Aug              1                   1\n",
       "60   2014-Sep              1                   0\n",
       "61   2014-Oct              1                   1\n",
       "69   2015-Jun              1                   1\n",
       "74   2015-Nov              1                   1\n",
       "75   2015-Dec              1                   0\n",
       "78   2016-Mar              1                   1\n",
       "79   2016-Apr              1                   1\n",
       "96   2017-Sep              1                   1\n",
       "109  2018-Oct              1                   1\n",
       "117  2019-Jun              1                   1\n",
       "119  2019-Aug              1                   1\n",
       "120  2019-Sep              1                   1\n",
       "121  2019-Oct              1                   1\n",
       "129  2020-Jun              1                   0"
      ]
     },
     "execution_count": 34,
     "metadata": {},
     "output_type": "execute_result"
    }
   ],
   "source": [
    "df_out2[df_out2['PriceIncrDate'] == 1][['YR-MON', 'PriceIncrDate', 'PriceIncrDate_pred']]"
   ]
  },
  {
   "cell_type": "code",
   "execution_count": null,
   "metadata": {},
   "outputs": [],
   "source": []
  }
 ],
 "metadata": {
  "kernelspec": {
   "display_name": "Python 3",
   "language": "python",
   "name": "python3"
  },
  "language_info": {
   "codemirror_mode": {
    "name": "ipython",
    "version": 3
   },
   "file_extension": ".py",
   "mimetype": "text/x-python",
   "name": "python",
   "nbconvert_exporter": "python",
   "pygments_lexer": "ipython3",
   "version": "3.7.1"
  }
 },
 "nbformat": 4,
 "nbformat_minor": 2
}
